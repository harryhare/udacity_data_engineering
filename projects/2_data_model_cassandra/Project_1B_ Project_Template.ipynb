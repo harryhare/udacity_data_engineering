{
 "cells": [
  {
   "cell_type": "markdown",
   "metadata": {
    "editable": true
   },
   "source": [
    "# Part I. ETL Pipeline for Pre-Processing the Files"
   ]
  },
  {
   "cell_type": "markdown",
   "metadata": {
    "editable": true
   },
   "source": [
    "## PLEASE RUN THE FOLLOWING CODE FOR PRE-PROCESSING THE FILES"
   ]
  },
  {
   "cell_type": "markdown",
   "metadata": {
    "editable": true
   },
   "source": [
    "#### Import Python packages "
   ]
  },
  {
   "cell_type": "code",
   "execution_count": 42,
   "metadata": {
    "editable": true
   },
   "outputs": [],
   "source": [
    "# Import Python packages \n",
    "import pandas as pd\n",
    "import cassandra\n",
    "import re\n",
    "import os\n",
    "import glob\n",
    "import numpy as np\n",
    "import json\n",
    "import csv"
   ]
  },
  {
   "cell_type": "markdown",
   "metadata": {
    "editable": true
   },
   "source": [
    "#### Creating list of filepaths to process original event csv data files"
   ]
  },
  {
   "cell_type": "code",
   "execution_count": 43,
   "metadata": {
    "editable": true
   },
   "outputs": [
    {
     "name": "stdout",
     "output_type": "stream",
     "text": [
      "/home/workspace\n"
     ]
    }
   ],
   "source": [
    "# checking your current working directory\n",
    "print(os.getcwd())\n",
    "\n",
    "# Get your current folder and subfolder event data\n",
    "filepath = os.getcwd() + '/event_data'\n",
    "\n",
    "# Create a for loop to create a list of files and collect each filepath\n",
    "for root, dirs, files in os.walk(filepath):\n",
    "    \n",
    "# join the file path and roots with the subdirectories using glob\n",
    "    file_path_list = glob.glob(os.path.join(root,'*'))\n",
    "    #print(file_path_list)"
   ]
  },
  {
   "cell_type": "markdown",
   "metadata": {
    "editable": true
   },
   "source": [
    "#### Processing the files to create the data file csv that will be used for Apache Casssandra tables"
   ]
  },
  {
   "cell_type": "code",
   "execution_count": 44,
   "metadata": {
    "editable": true
   },
   "outputs": [],
   "source": [
    "# initiating an empty list of rows that will be generated from each file\n",
    "full_data_rows_list = [] \n",
    "    \n",
    "# for every filepath in the file path list \n",
    "for f in file_path_list:\n",
    "\n",
    "# reading csv file \n",
    "    with open(f, 'r', encoding = 'utf8', newline='') as csvfile: \n",
    "        # creating a csv reader object \n",
    "        csvreader = csv.reader(csvfile) \n",
    "        next(csvreader)\n",
    "        \n",
    " # extracting each data row one by one and append it        \n",
    "        for line in csvreader:\n",
    "            #print(line)\n",
    "            full_data_rows_list.append(line) \n",
    "            \n",
    "# uncomment the code below if you would like to get total number of rows \n",
    "#print(len(full_data_rows_list))\n",
    "# uncomment the code below if you would like to check to see what the list of event data rows will look like\n",
    "#print(full_data_rows_list)\n",
    "\n",
    "# creating a smaller event data csv file called event_datafile_full csv that will be used to insert data into the \\\n",
    "# Apache Cassandra tables\n",
    "csv.register_dialect('myDialect', quoting=csv.QUOTE_ALL, skipinitialspace=True)\n",
    "\n",
    "with open('event_datafile_new.csv', 'w', encoding = 'utf8', newline='') as f:\n",
    "    writer = csv.writer(f, dialect='myDialect')\n",
    "    writer.writerow(['artist','firstName','gender','itemInSession','lastName','length',\\\n",
    "                'level','location','sessionId','song','userId'])\n",
    "    for row in full_data_rows_list:\n",
    "        if (row[0] == ''):\n",
    "            continue\n",
    "        writer.writerow((row[0], row[2], row[3], row[4], row[5], row[6], row[7], row[8], row[12], row[13], row[16]))\n"
   ]
  },
  {
   "cell_type": "code",
   "execution_count": 45,
   "metadata": {
    "editable": true
   },
   "outputs": [
    {
     "name": "stdout",
     "output_type": "stream",
     "text": [
      "6821\n"
     ]
    }
   ],
   "source": [
    "# check the number of rows in your csv file\n",
    "with open('event_datafile_new.csv', 'r', encoding = 'utf8') as f:\n",
    "    print(sum(1 for line in f))"
   ]
  },
  {
   "cell_type": "markdown",
   "metadata": {
    "editable": true
   },
   "source": [
    "# Part II. Complete the Apache Cassandra coding portion of your project. \n",
    "\n",
    "## Now you are ready to work with the CSV file titled <font color=red>event_datafile_new.csv</font>, located within the Workspace directory.  The event_datafile_new.csv contains the following columns: \n",
    "- artist \n",
    "- firstName of user\n",
    "- gender of user\n",
    "- item number in session\n",
    "- last name of user\n",
    "- length of the song\n",
    "- level (paid or free song)\n",
    "- location of the user\n",
    "- sessionId\n",
    "- song title\n",
    "- userId\n",
    "\n",
    "The image below is a screenshot of what the denormalized data should appear like in the <font color=red>**event_datafile_new.csv**</font> after the code above is run:<br>\n",
    "\n",
    "<img src=\"images/image_event_datafile_new.jpg\">"
   ]
  },
  {
   "cell_type": "markdown",
   "metadata": {
    "editable": true
   },
   "source": [
    "## Begin writing your Apache Cassandra code in the cells below"
   ]
  },
  {
   "cell_type": "markdown",
   "metadata": {
    "editable": true
   },
   "source": [
    "#### Creating a Cluster"
   ]
  },
  {
   "cell_type": "code",
   "execution_count": 46,
   "metadata": {
    "editable": true
   },
   "outputs": [],
   "source": [
    "# This make a connection to a Cassandra instance your local machine \n",
    "# (127.0.0.1)\n",
    "\n",
    "from cassandra.cluster import Cluster\n",
    "cluster = Cluster([\"127.0.0.1\"])\n",
    "\n",
    "# To establish connection and begin executing queries, need a session\n",
    "session = cluster.connect()"
   ]
  },
  {
   "cell_type": "markdown",
   "metadata": {
    "editable": true
   },
   "source": [
    "#### Create Keyspace"
   ]
  },
  {
   "cell_type": "code",
   "execution_count": 47,
   "metadata": {
    "editable": true
   },
   "outputs": [],
   "source": [
    "# Create a Keyspace\n",
    "try:\n",
    "    session.execute(\"\"\"\n",
    "    CREATE KEYSPACE IF NOT EXISTS udacity \n",
    "    WITH REPLICATION = \n",
    "    { 'class' : 'SimpleStrategy', 'replication_factor' : 1 }\"\"\"\n",
    ")\n",
    "\n",
    "except Exception as e:\n",
    "    print(\"create key space error\")\n",
    "    print(e)"
   ]
  },
  {
   "cell_type": "markdown",
   "metadata": {
    "editable": true
   },
   "source": [
    "#### Set Keyspace"
   ]
  },
  {
   "cell_type": "code",
   "execution_count": 48,
   "metadata": {
    "editable": true
   },
   "outputs": [],
   "source": [
    "# Set KEYSPACE to the keyspace specified above\n",
    "try:\n",
    "    session.set_keyspace('udacity')\n",
    "except Exception as e:\n",
    "    print(\"set keyspace error\")\n",
    "    print(e)"
   ]
  },
  {
   "cell_type": "markdown",
   "metadata": {
    "editable": true
   },
   "source": [
    "### Now we need to create tables to run the following queries. Remember, with Apache Cassandra you model the database tables on the queries you want to run."
   ]
  },
  {
   "cell_type": "markdown",
   "metadata": {
    "editable": true
   },
   "source": [
    "## Create queries to ask the following three questions of the data\n",
    "\n",
    "### 1. Give me the artist, song title and song's length in the music app history that was heard during  sessionId = 338, and itemInSession  = 4\n",
    "\n",
    "\n",
    "### 2. Give me only the following: name of artist, song (sorted by itemInSession) and user (first and last name) for userid = 10, sessionid = 182\n",
    "    \n",
    "\n",
    "### 3. Give me every user name (first and last) in my music app history who listened to the song 'All Hands Against His Own'\n",
    "\n",
    "\n"
   ]
  },
  {
   "cell_type": "code",
   "execution_count": 49,
   "metadata": {
    "editable": true
   },
   "outputs": [],
   "source": [
    "## Create Table For Query 1:\n",
    "## Get the artist, song title and song's length \n",
    "## For given sessionId and itemInSession \n",
    "query = \"CREATE TABLE IF NOT EXISTS sessions \"\n",
    "query = query + \"(session_id int, item_in_session int, artist text, song text, song_length decimal, primary key (session_id, item_in_session))\"\n",
    "try:\n",
    "    session.execute(\"DROP TABLE IF EXISTS sessions\")\n",
    "    session.execute(query)\n",
    "except Exception as e:\n",
    "    print(e)\n",
    "\n",
    "## Create Table for Query 2:\n",
    "## Get name of artist, song (sorted by itemInSession) and user (first and last name)\\\n",
    "## For given userid, sessionid\n",
    "query = \"CREATE TABLE IF NOT EXISTS users \"\n",
    "query = query + \"(user_id int, session_id int, item_in_session int, artist text, song text, first_name text, last_name text, primary key ((user_id, session_id), item_in_session))\"\n",
    "try:\n",
    "    session.execute(\"DROP TABLE IF EXISTS users\")\n",
    "    session.execute(query)\n",
    "except Exception as e:\n",
    "    print(e)\n",
    "                \n",
    "## Create Table for Query 3:\n",
    "## Get every user name (first and last)  \n",
    "## For given song's title\n",
    " \n",
    "query = \"CREATE TABLE IF NOT EXISTS songs \"\n",
    "query = query + \"(song text, first_name text, last_name text, primary key (song, first_name, last_name))\"\n",
    "try:\n",
    "    session.execute(\"DROP TABLE IF EXISTS songs\")\n",
    "    session.execute(query)\n",
    "except Exception as e:\n",
    "    print(e)"
   ]
  },
  {
   "cell_type": "code",
   "execution_count": 50,
   "metadata": {
    "editable": true
   },
   "outputs": [],
   "source": [
    "# Process csv file, fill data to cassandra\n",
    "file = 'event_datafile_new.csv'\n",
    "\n",
    "with open(file, encoding = 'utf8') as f:\n",
    "    csvreader = csv.reader(f)\n",
    "    next(csvreader) # skip header\n",
    "    for line in csvreader:\n",
    "        # type convert\n",
    "        line[8]=int(line[8])\n",
    "        line[3]=int(line[3])\n",
    "        line[5]=float(line[5])\n",
    "        line[10]=int(line[10])\n",
    "        try:\n",
    "            # session_id int, item_in_session int, artist text, song text, song_length decimal\n",
    "            query = \"INSERT INTO sessions(session_id, item_in_session, artist, song, song_length)\\\n",
    "                    VAlUES (%s, %s, %s, %s, %s)\"\n",
    "            session.execute(query, (line[8], line[3], line[0], line[9], line[5]))\n",
    "        except Exception as e:\n",
    "            print(e)\n",
    "        try:\n",
    "            # user_id int, session_id int, item_in_session int, artist text, song text, first_name text, last_name text\n",
    "            query = \"INSERT INTO users (user_id, session_id, item_in_session, artist, song, first_name, last_name) \\\n",
    "                    VAlUES (%s, %s, %s, %s, %s, %s, %s)\"\n",
    "            session.execute(query, (line[10], line[8], line[3], line[0], line[9], line[1], line[4]))\n",
    "        except Exception as e:\n",
    "            print(e)\n",
    "        try:\n",
    "            # song text, first_name text, last_name text\n",
    "            query = \"INSERT INTO songs(song, first_name, last_name) VAlUES (%s, %s, %s)\"\n",
    "            session.execute(query, (line[9], line[1], line[4]))\n",
    "        except Exception as e:\n",
    "            print(e)"
   ]
  },
  {
   "cell_type": "markdown",
   "metadata": {
    "editable": true
   },
   "source": [
    "#### Do a SELECT to verify that the data have been inserted into each table"
   ]
  },
  {
   "cell_type": "code",
   "execution_count": 51,
   "metadata": {
    "editable": true,
    "scrolled": true
   },
   "outputs": [
    {
     "name": "stdout",
     "output_type": "stream",
     "text": [
      "\n",
      "\n",
      "sessions:\n",
      "Row(session_id=23, item_in_session=0, artist='Regina Spektor', song='The Calculation (Album Version)', song_length=Decimal('191.08526'))\n",
      "Row(session_id=23, item_in_session=1, artist='Octopus Project', song='All Of The Champs That Ever Lived', song_length=Decimal('250.95791'))\n",
      "Row(session_id=23, item_in_session=2, artist='Tegan And Sara', song='So Jealous', song_length=Decimal('180.06159'))\n",
      "Row(session_id=23, item_in_session=3, artist='Dragonette', song='Okay Dolores', song_length=Decimal('153.39057'))\n",
      "Row(session_id=23, item_in_session=4, artist='Lil Wayne / Eminem', song='Drop The World', song_length=Decimal('229.58975'))\n",
      "\n",
      "\n",
      "users:\n",
      "Row(user_id=58, session_id=768, item_in_session=0, artist='System of a Down', first_name='Emily', last_name='Benson', song='Sad Statue')\n",
      "Row(user_id=58, session_id=768, item_in_session=1, artist='Ghostland Observatory', first_name='Emily', last_name='Benson', song='Stranger Lover')\n",
      "Row(user_id=58, session_id=768, item_in_session=2, artist='Evergreen Terrace', first_name='Emily', last_name='Benson', song='Zero')\n",
      "Row(user_id=85, session_id=776, item_in_session=2, artist='Deftones', first_name='Kinsley', last_name='Young', song='Head Up (LP Version)')\n",
      "Row(user_id=85, session_id=776, item_in_session=3, artist='The Notorious B.I.G.', first_name='Kinsley', last_name='Young', song='Playa Hater (Amended Version)')\n",
      "\n",
      "\n",
      "songs:\n",
      "Row(song=\"Wonder What's Next\", first_name='Chloe', last_name='Cuevas')\n",
      "Row(song=\"In The Dragon's Den\", first_name='Chloe', last_name='Cuevas')\n",
      "Row(song='Too Tough (1994 Digital Remaster)', first_name='Aleena', last_name='Kirby')\n",
      "Row(song='Rio De Janeiro Blue (Album Version)', first_name='Chloe', last_name='Cuevas')\n",
      "Row(song='My Place', first_name='Jacob', last_name='Klein')\n"
     ]
    }
   ],
   "source": [
    "## Add in the SELECT statement to verify the data was entered into the table\n",
    "try:\n",
    "    rows = session.execute(\"SELECT * FROM sessions LIMIT 5\")\n",
    "except Exception as e:\n",
    "    print(e)\n",
    "\n",
    "print(\"\\n\\nsessions:\")\n",
    "for row in rows:\n",
    "    print(row)\n",
    "    \n",
    "try:\n",
    "    rows = session.execute(\"SELECT * FROM users LIMIT 5\")\n",
    "except Exception as e:\n",
    "    print(e)\n",
    "\n",
    "    \n",
    "print(\"\\n\\nusers:\")\n",
    "for row in rows:\n",
    "    print(row)\n",
    "    \n",
    "try:\n",
    "    rows = session.execute(\"SELECT * FROM songs LIMIT 5\")\n",
    "except Exception as e:\n",
    "    print(e)\n",
    "\n",
    "print(\"\\n\\nsongs:\")\n",
    "for row in rows:\n",
    "    print(row)"
   ]
  },
  {
   "cell_type": "markdown",
   "metadata": {
    "editable": true
   },
   "source": [
    "### COPY AND REPEAT THE ABOVE THREE CELLS FOR EACH OF THE THREE QUESTIONS"
   ]
  },
  {
   "cell_type": "code",
   "execution_count": 52,
   "metadata": {
    "editable": true,
    "scrolled": true
   },
   "outputs": [
    {
     "name": "stdout",
     "output_type": "stream",
     "text": [
      "Faithless Music Matters (Mark Knight Dub) 495.3073\n"
     ]
    }
   ],
   "source": [
    "## Query 1:  get the artist, song title and song's length \n",
    "## for sessionId = 338, and itemInSession = 4\n",
    "try:\n",
    "    rows = session.execute(\"SELECT artist, song, song_length FROM sessions WHERE session_id = 338 and item_in_session=4\")\n",
    "except Exception as e:\n",
    "    print(e)\n",
    "    \n",
    "for row in rows:\n",
    "    print(row.artist, row.song, row.song_length)"
   ]
  },
  {
   "cell_type": "code",
   "execution_count": 53,
   "metadata": {
    "editable": true
   },
   "outputs": [
    {
     "name": "stdout",
     "output_type": "stream",
     "text": [
      "Down To The Bone Keep On Keepin' On Sylvie Cruz\n",
      "Three Drives Greece 2000 Sylvie Cruz\n",
      "Sebastien Tellier Kilometer Sylvie Cruz\n",
      "Lonnie Gordon Catch You Baby (Steve Pitron & Max Sanna Radio Edit) Sylvie Cruz\n"
     ]
    }
   ],
   "source": [
    "## Query 2: get name of artist, song (sorted by itemInSession) and user (first and last name)\\\n",
    "## For userid = 10, sessionid = 182\n",
    "\n",
    "try:\n",
    "    rows = session.execute(\"SELECT artist, song, first_name, last_name FROM users WHERE user_id =10 and session_id= 182 ORDER BY item_in_session\")\n",
    "except Exception as e:\n",
    "    print(e)\n",
    "    \n",
    "for row in rows:\n",
    "    print(row.artist, row.song, row.first_name, row.last_name)\n",
    "                    "
   ]
  },
  {
   "cell_type": "code",
   "execution_count": 54,
   "metadata": {
    "editable": true
   },
   "outputs": [
    {
     "name": "stdout",
     "output_type": "stream",
     "text": [
      "Jacqueline Lynch\n",
      "Sara Johnson\n",
      "Tegan Levine\n"
     ]
    }
   ],
   "source": [
    "## Query 3: get every user name (first and last)  \n",
    "## For song = 'All Hands Against His Own't\n",
    "\n",
    "try:\n",
    "    rows = session.execute(\"SELECT first_name, last_name FROM songs WHERE song = 'All Hands Against His Own'\")\n",
    "except Exception as e:\n",
    "    print(e)\n",
    "    \n",
    "for row in rows:\n",
    "    print(row.first_name, row.last_name)\n",
    "                    "
   ]
  },
  {
   "cell_type": "code",
   "execution_count": null,
   "metadata": {
    "editable": true
   },
   "outputs": [],
   "source": []
  },
  {
   "cell_type": "code",
   "execution_count": null,
   "metadata": {
    "editable": true
   },
   "outputs": [],
   "source": []
  },
  {
   "cell_type": "markdown",
   "metadata": {
    "editable": true
   },
   "source": [
    "### Drop the tables before closing out the sessions"
   ]
  },
  {
   "cell_type": "code",
   "execution_count": 55,
   "metadata": {
    "editable": true
   },
   "outputs": [],
   "source": [
    "try:\n",
    "    session.execute(\"DROP TABLE IF EXISTS sessions\")\n",
    "except Error as e:\n",
    "    print(e)\n",
    "try:\n",
    "    session.execute(\"DROP TABLE IF EXISTS users\")\n",
    "except Error as e:\n",
    "    print(e)\n",
    "try:\n",
    "    session.execute(\"DROP TABLE IF EXISTS songs\")\n",
    "except Error as e:\n",
    "    print(e)"
   ]
  },
  {
   "cell_type": "markdown",
   "metadata": {
    "editable": true
   },
   "source": [
    "### Close the session and cluster connection¶"
   ]
  },
  {
   "cell_type": "code",
   "execution_count": 56,
   "metadata": {
    "editable": true
   },
   "outputs": [],
   "source": [
    "session.shutdown()\n",
    "cluster.shutdown()"
   ]
  },
  {
   "cell_type": "code",
   "execution_count": null,
   "metadata": {
    "editable": true
   },
   "outputs": [],
   "source": []
  },
  {
   "cell_type": "code",
   "execution_count": null,
   "metadata": {
    "editable": true
   },
   "outputs": [],
   "source": []
  }
 ],
 "metadata": {
  "kernelspec": {
   "display_name": "Python 3",
   "language": "python",
   "name": "python3"
  },
  "language_info": {
   "codemirror_mode": {
    "name": "ipython",
    "version": 3
   },
   "file_extension": ".py",
   "mimetype": "text/x-python",
   "name": "python",
   "nbconvert_exporter": "python",
   "pygments_lexer": "ipython3",
   "version": "3.6.3"
  }
 },
 "nbformat": 4,
 "nbformat_minor": 4
}
